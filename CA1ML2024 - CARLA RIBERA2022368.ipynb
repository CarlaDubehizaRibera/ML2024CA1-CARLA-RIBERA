{
 "cells": [
  {
   "cell_type": "markdown",
   "id": "80c8bfc5",
   "metadata": {},
   "source": [
    "### TASK"
   ]
  },
  {
   "cell_type": "markdown",
   "id": "3532ac6b",
   "metadata": {},
   "source": [
    "Develop and deploy machine\n",
    "learning models in any one of the following areas only and analyse the results.\n",
    "\n",
    "##### Public Transport\n",
    "\n",
    "Project questions could be: (this is a small, suggested, sample of questions, other questions may be more\n",
    "appropriate to your project)\n",
    "\n",
    "– How to measure similarity or dissimilarity between different clusters?\n",
    "– Which clustering solution do you prefer, and why?\n",
    "– How to analyse and investigate an inflation rate for a specific product?\n",
    "\n",
    "You will present their findings and defend the results in the report (MS Doc). Your report should capture the\n",
    "following aspects that are relevant to your project investigations.\n",
    "\n",
    "i) A precise introduction, motivation, description of problem domain, project objectives and the\n",
    "rationale for the chosen dataset in the above-mentioned areas.\n",
    "\n",
    "\n",
    "ii) Which clustering algorithms would you consider for segmentation, and why? Explain the differences\n",
    "between silhouette score and Davies-Bouldin index in the context of clustering. Compare the results\n",
    "obtained from any two clustering algorithms from the chosen dataset.\n",
    "\n",
    "\n",
    "iii) What insights can you derive from the initial exploration of the time series data based on the\n",
    "provided topics? Describe any trends, seasonality, or anomalies observed. How did you determine\n",
    "the appropriate parameters (p, d, q) for the ARIMA model. Evaluate the performance of the ARIMA\n",
    "model in forecasting future values, highlighting any strengths and limitations based on your chosen\n",
    "dataset.\n",
    "\n",
    "\n",
    "iv) Interpret and justify the results based on the problem specification or project objectives by using\n",
    "suitable visualizations. Comments and description of Python code, conclusions of the project should\n",
    "be specified in the report as well as jupyter notebook. Citations and references should be in the\n",
    "Harvard Style.\n",
    "\n",
    "\n",
    "#### Note: You can choose two different datasets for task (ii) or task (iii) separately or one dataset for both tasks"
   ]
  },
  {
   "cell_type": "markdown",
   "id": "33179e71",
   "metadata": {},
   "source": [
    "### Part I: Data Loading and Cleaning"
   ]
  },
  {
   "cell_type": "code",
   "execution_count": 1,
   "id": "0b3d94ba",
   "metadata": {},
   "outputs": [
    {
     "data": {
      "text/html": [
       "<div>\n",
       "<style scoped>\n",
       "    .dataframe tbody tr th:only-of-type {\n",
       "        vertical-align: middle;\n",
       "    }\n",
       "\n",
       "    .dataframe tbody tr th {\n",
       "        vertical-align: top;\n",
       "    }\n",
       "\n",
       "    .dataframe thead th {\n",
       "        text-align: right;\n",
       "    }\n",
       "</style>\n",
       "<table border=\"1\" class=\"dataframe\">\n",
       "  <thead>\n",
       "    <tr style=\"text-align: right;\">\n",
       "      <th></th>\n",
       "      <th>Unnamed: 0</th>\n",
       "      <th>timestamp</th>\n",
       "      <th>TP2</th>\n",
       "      <th>TP3</th>\n",
       "      <th>H1</th>\n",
       "      <th>DV_pressure</th>\n",
       "      <th>Reservoirs</th>\n",
       "      <th>Oil_temperature</th>\n",
       "      <th>Motor_current</th>\n",
       "      <th>COMP</th>\n",
       "      <th>DV_eletric</th>\n",
       "      <th>Towers</th>\n",
       "      <th>MPG</th>\n",
       "      <th>LPS</th>\n",
       "      <th>Pressure_switch</th>\n",
       "      <th>Oil_level</th>\n",
       "      <th>Caudal_impulses</th>\n",
       "    </tr>\n",
       "  </thead>\n",
       "  <tbody>\n",
       "    <tr>\n",
       "      <th>0</th>\n",
       "      <td>0</td>\n",
       "      <td>01/02/2020 00:00</td>\n",
       "      <td>-0.012</td>\n",
       "      <td>9.358</td>\n",
       "      <td>9.340</td>\n",
       "      <td>-0.024</td>\n",
       "      <td>9.358</td>\n",
       "      <td>53.600</td>\n",
       "      <td>0.0400</td>\n",
       "      <td>1</td>\n",
       "      <td>0</td>\n",
       "      <td>1</td>\n",
       "      <td>1</td>\n",
       "      <td>0</td>\n",
       "      <td>1</td>\n",
       "      <td>1</td>\n",
       "      <td>1</td>\n",
       "    </tr>\n",
       "    <tr>\n",
       "      <th>1</th>\n",
       "      <td>10</td>\n",
       "      <td>01/02/2020 00:00</td>\n",
       "      <td>-0.014</td>\n",
       "      <td>9.348</td>\n",
       "      <td>9.332</td>\n",
       "      <td>-0.022</td>\n",
       "      <td>9.348</td>\n",
       "      <td>53.675</td>\n",
       "      <td>0.0400</td>\n",
       "      <td>1</td>\n",
       "      <td>0</td>\n",
       "      <td>1</td>\n",
       "      <td>1</td>\n",
       "      <td>0</td>\n",
       "      <td>1</td>\n",
       "      <td>1</td>\n",
       "      <td>1</td>\n",
       "    </tr>\n",
       "    <tr>\n",
       "      <th>2</th>\n",
       "      <td>20</td>\n",
       "      <td>01/02/2020 00:00</td>\n",
       "      <td>-0.012</td>\n",
       "      <td>9.338</td>\n",
       "      <td>9.322</td>\n",
       "      <td>-0.022</td>\n",
       "      <td>9.338</td>\n",
       "      <td>53.600</td>\n",
       "      <td>0.0425</td>\n",
       "      <td>1</td>\n",
       "      <td>0</td>\n",
       "      <td>1</td>\n",
       "      <td>1</td>\n",
       "      <td>0</td>\n",
       "      <td>1</td>\n",
       "      <td>1</td>\n",
       "      <td>1</td>\n",
       "    </tr>\n",
       "    <tr>\n",
       "      <th>3</th>\n",
       "      <td>30</td>\n",
       "      <td>01/02/2020 00:00</td>\n",
       "      <td>-0.012</td>\n",
       "      <td>9.328</td>\n",
       "      <td>9.312</td>\n",
       "      <td>-0.022</td>\n",
       "      <td>9.328</td>\n",
       "      <td>53.425</td>\n",
       "      <td>0.0400</td>\n",
       "      <td>1</td>\n",
       "      <td>0</td>\n",
       "      <td>1</td>\n",
       "      <td>1</td>\n",
       "      <td>0</td>\n",
       "      <td>1</td>\n",
       "      <td>1</td>\n",
       "      <td>1</td>\n",
       "    </tr>\n",
       "    <tr>\n",
       "      <th>4</th>\n",
       "      <td>40</td>\n",
       "      <td>01/02/2020 00:00</td>\n",
       "      <td>-0.012</td>\n",
       "      <td>9.318</td>\n",
       "      <td>9.302</td>\n",
       "      <td>-0.022</td>\n",
       "      <td>9.318</td>\n",
       "      <td>53.475</td>\n",
       "      <td>0.0400</td>\n",
       "      <td>1</td>\n",
       "      <td>0</td>\n",
       "      <td>1</td>\n",
       "      <td>1</td>\n",
       "      <td>0</td>\n",
       "      <td>1</td>\n",
       "      <td>1</td>\n",
       "      <td>1</td>\n",
       "    </tr>\n",
       "  </tbody>\n",
       "</table>\n",
       "</div>"
      ],
      "text/plain": [
       "   Unnamed: 0         timestamp    TP2    TP3     H1  DV_pressure  Reservoirs  \\\n",
       "0           0  01/02/2020 00:00 -0.012  9.358  9.340       -0.024       9.358   \n",
       "1          10  01/02/2020 00:00 -0.014  9.348  9.332       -0.022       9.348   \n",
       "2          20  01/02/2020 00:00 -0.012  9.338  9.322       -0.022       9.338   \n",
       "3          30  01/02/2020 00:00 -0.012  9.328  9.312       -0.022       9.328   \n",
       "4          40  01/02/2020 00:00 -0.012  9.318  9.302       -0.022       9.318   \n",
       "\n",
       "   Oil_temperature  Motor_current  COMP  DV_eletric  Towers  MPG  LPS  \\\n",
       "0           53.600         0.0400     1           0       1    1    0   \n",
       "1           53.675         0.0400     1           0       1    1    0   \n",
       "2           53.600         0.0425     1           0       1    1    0   \n",
       "3           53.425         0.0400     1           0       1    1    0   \n",
       "4           53.475         0.0400     1           0       1    1    0   \n",
       "\n",
       "   Pressure_switch  Oil_level  Caudal_impulses  \n",
       "0                1          1                1  \n",
       "1                1          1                1  \n",
       "2                1          1                1  \n",
       "3                1          1                1  \n",
       "4                1          1                1  "
      ]
     },
     "execution_count": 1,
     "metadata": {},
     "output_type": "execute_result"
    }
   ],
   "source": [
    "# Step 1: Importing Libraries\n",
    "import pandas as pd\n",
    "import numpy as np\n",
    "import matplotlib.pyplot as plt\n",
    "import seaborn as sns\n",
    "\n",
    "# Suppressing potential future warnings for pandas operations\n",
    "pd.options.mode.chained_assignment = None\n",
    "\n",
    "# Step 2: Loading the Dataset\n",
    "# Load the dataset\n",
    "df = pd.read_csv('MetroPT3(AirCompressor).csv')\n",
    "\n",
    "# Display the first few rows of the dataframe\n",
    "df.head()"
   ]
  },
  {
   "cell_type": "code",
   "execution_count": 2,
   "id": "1c6f9d43",
   "metadata": {},
   "outputs": [
    {
     "name": "stdout",
     "output_type": "stream",
     "text": [
      "Total number of rows in the dataset: 1048575\n"
     ]
    }
   ],
   "source": [
    "# Checking the total number of rows in the dataset\n",
    "total_rows = len(df)\n",
    "print(f\"Total number of rows in the dataset: {total_rows}\")\n"
   ]
  },
  {
   "cell_type": "code",
   "execution_count": 3,
   "id": "7e2bbb2e",
   "metadata": {},
   "outputs": [
    {
     "name": "stdout",
     "output_type": "stream",
     "text": [
      "Number of duplicate rows: 0\n"
     ]
    }
   ],
   "source": [
    "# Check for duplicates\n",
    "duplicates = df.duplicated().sum()\n",
    "print(f\"Number of duplicate rows: {duplicates}\")"
   ]
  },
  {
   "cell_type": "code",
   "execution_count": 4,
   "id": "d547fb02",
   "metadata": {},
   "outputs": [
    {
     "name": "stdout",
     "output_type": "stream",
     "text": [
      "Unnamed: 0         0\n",
      "timestamp          0\n",
      "TP2                0\n",
      "TP3                0\n",
      "H1                 0\n",
      "DV_pressure        0\n",
      "Reservoirs         0\n",
      "Oil_temperature    0\n",
      "Motor_current      0\n",
      "COMP               0\n",
      "DV_eletric         0\n",
      "Towers             0\n",
      "MPG                0\n",
      "LPS                0\n",
      "Pressure_switch    0\n",
      "Oil_level          0\n",
      "Caudal_impulses    0\n",
      "dtype: int64\n"
     ]
    }
   ],
   "source": [
    "# Step 3: Data Cleaning\n",
    "# Checking for missing values in the dataset\n",
    "print(df.isnull().sum())\n"
   ]
  },
  {
   "cell_type": "code",
   "execution_count": 5,
   "id": "66522ade",
   "metadata": {},
   "outputs": [
    {
     "name": "stdout",
     "output_type": "stream",
     "text": [
      "Unnamed: 0                  int64\n",
      "timestamp          datetime64[ns]\n",
      "TP2                       float64\n",
      "TP3                       float64\n",
      "H1                        float64\n",
      "DV_pressure               float64\n",
      "Reservoirs                float64\n",
      "Oil_temperature           float64\n",
      "Motor_current             float64\n",
      "COMP                        int64\n",
      "DV_eletric                  int64\n",
      "Towers                      int64\n",
      "MPG                         int64\n",
      "LPS                         int64\n",
      "Pressure_switch             int64\n",
      "Oil_level                   int64\n",
      "Caudal_impulses             int64\n",
      "dtype: object\n"
     ]
    }
   ],
   "source": [
    "# Fill missing values with the median:\n",
    "df.fillna(df.median(numeric_only=True), inplace=True)\n",
    "\n",
    "# Convert 'timestamp' column to datetime type (if not already)\n",
    "df['timestamp'] = pd.to_datetime(df['timestamp'])\n",
    "\n",
    "print(df.dtypes)  # To check the data types of each column"
   ]
  },
  {
   "cell_type": "code",
   "execution_count": null,
   "id": "84e8cf9d",
   "metadata": {},
   "outputs": [],
   "source": []
  },
  {
   "cell_type": "code",
   "execution_count": null,
   "id": "a9f33fd8",
   "metadata": {},
   "outputs": [],
   "source": []
  },
  {
   "cell_type": "code",
   "execution_count": null,
   "id": "19995914",
   "metadata": {},
   "outputs": [],
   "source": []
  }
 ],
 "metadata": {
  "kernelspec": {
   "display_name": "Python 3 (ipykernel)",
   "language": "python",
   "name": "python3"
  },
  "language_info": {
   "codemirror_mode": {
    "name": "ipython",
    "version": 3
   },
   "file_extension": ".py",
   "mimetype": "text/x-python",
   "name": "python",
   "nbconvert_exporter": "python",
   "pygments_lexer": "ipython3",
   "version": "3.11.4"
  }
 },
 "nbformat": 4,
 "nbformat_minor": 5
}
