{
 "cells": [
  {
   "cell_type": "markdown",
   "id": "4647dc9e",
   "metadata": {},
   "source": [
    "### TASK"
   ]
  },
  {
   "cell_type": "markdown",
   "id": "db65fb16",
   "metadata": {},
   "source": [
    "Develop and deploy machine\n",
    "learning models in any one of the following areas only and analyse the results.\n",
    "\n",
    "– Public Transport\n",
    "\n",
    "Project questions could be: (this is a small, suggested, sample of questions, other questions may be more\n",
    "appropriate to your project)\n",
    "\n",
    "– How to measure similarity or dissimilarity between different clusters?\n",
    "– Which clustering solution do you prefer, and why?\n",
    "– How to analyse and investigate an inflation rate for a specific product?\n",
    "\n",
    "You will present their findings and defend the results in the report (MS Doc). Your report should capture the\n",
    "following aspects that are relevant to your project investigations.\n",
    "\n",
    "i) A precise introduction, motivation, description of problem domain, project objectives and the\n",
    "rationale for the chosen dataset in the above-mentioned areas.\n",
    "(15 marks)\n",
    "\n",
    "ii) Which clustering algorithms would you consider for segmentation, and why? Explain the differences\n",
    "between silhouette score and Davies-Bouldin index in the context of clustering. Compare the results\n",
    "obtained from any two clustering algorithms from the chosen dataset.\n",
    "(35 marks)\n",
    "\n",
    "iii) What insights can you derive from the initial exploration of the time series data based on the\n",
    "provided topics? Describe any trends, seasonality, or anomalies observed. How did you determine\n",
    "the appropriate parameters (p, d, q) for the ARIMA model. Evaluate the performance of the ARIMA\n",
    "model in forecasting future values, highlighting any strengths and limitations based on your chosen\n",
    "dataset.\n",
    "(35 marks)\n",
    "\n",
    "iv) Interpret and justify the results based on the problem specification or project objectives by using\n",
    "suitable visualizations. Comments and description of Python code, conclusions of the project should\n",
    "be specified in the report as well as jupyter notebook. Citations and references should be in the\n",
    "Harvard Style.\n",
    "(15 marks)\n",
    "\n",
    "Note: You can choose two different datasets for task (ii) or task (iii) separately or one dataset for both tasks"
   ]
  },
  {
   "cell_type": "code",
   "execution_count": null,
   "id": "25c7544a",
   "metadata": {},
   "outputs": [],
   "source": []
  },
  {
   "cell_type": "code",
   "execution_count": null,
   "id": "3cca622d",
   "metadata": {},
   "outputs": [],
   "source": []
  },
  {
   "cell_type": "code",
   "execution_count": null,
   "id": "30de5dac",
   "metadata": {},
   "outputs": [],
   "source": []
  },
  {
   "cell_type": "code",
   "execution_count": null,
   "id": "b8187194",
   "metadata": {},
   "outputs": [],
   "source": []
  },
  {
   "cell_type": "code",
   "execution_count": null,
   "id": "ad27ba34",
   "metadata": {},
   "outputs": [],
   "source": []
  }
 ],
 "metadata": {
  "kernelspec": {
   "display_name": "Python 3 (ipykernel)",
   "language": "python",
   "name": "python3"
  },
  "language_info": {
   "codemirror_mode": {
    "name": "ipython",
    "version": 3
   },
   "file_extension": ".py",
   "mimetype": "text/x-python",
   "name": "python",
   "nbconvert_exporter": "python",
   "pygments_lexer": "ipython3",
   "version": "3.11.4"
  }
 },
 "nbformat": 4,
 "nbformat_minor": 5
}
